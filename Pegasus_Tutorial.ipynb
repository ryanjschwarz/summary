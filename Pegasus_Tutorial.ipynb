{
  "nbformat": 4,
  "nbformat_minor": 0,
  "metadata": {
    "kernelspec": {
      "display_name": "pegasus",
      "language": "python",
      "name": "pegasus"
    },
    "language_info": {
      "codemirror_mode": {
        "name": "ipython",
        "version": 3
      },
      "file_extension": ".py",
      "mimetype": "text/x-python",
      "name": "python",
      "nbconvert_exporter": "python",
      "pygments_lexer": "ipython3",
      "version": "3.7.3"
    },
    "colab": {
      "name": "Pegasus Tutorial.ipynb",
      "provenance": [],
      "collapsed_sections": [],
      "include_colab_link": true
    }
  },
  "cells": [
    {
      "cell_type": "markdown",
      "metadata": {
        "id": "view-in-github",
        "colab_type": "text"
      },
      "source": [
        "<a href=\"https://colab.research.google.com/github/ryanjschwarz/summary/blob/main/Pegasus_Tutorial.ipynb\" target=\"_parent\"><img src=\"https://colab.research.google.com/assets/colab-badge.svg\" alt=\"Open In Colab\"/></a>"
      ]
    },
    {
      "cell_type": "markdown",
      "metadata": {
        "id": "Z52gJXydPh2b"
      },
      "source": [
        "# 0. Install dependencies"
      ]
    },
    {
      "cell_type": "code",
      "metadata": {
        "id": "JexNDL53Ph2q"
      },
      "source": [
        "# Install PyTorch\n",
        "!pip install torch==1.8.2+cu111 torchvision==0.9.2+cu111 torchaudio===0.8.2 -f https://download.pytorch.org/whl/lts/1.8/torch_lts.html\n",
        "!pip install sentencepiece"
      ],
      "execution_count": null,
      "outputs": []
    },
    {
      "cell_type": "code",
      "metadata": {
        "id": "0mbPcFX1Ph2w"
      },
      "source": [
        "# Install transformers\n",
        "!pip install transformers"
      ],
      "execution_count": null,
      "outputs": []
    },
    {
      "cell_type": "code",
      "metadata": {
        "id": "lTPXwUVIqo_z"
      },
      "source": [
        "#Install Beautiful soup\n",
        "!pip install Beautifulsoup4\n",
        "!pip install requests"
      ],
      "execution_count": null,
      "outputs": []
    },
    {
      "cell_type": "markdown",
      "metadata": {
        "id": "OXi65qnFPh2y"
      },
      "source": [
        "# 1. Import and Load Model"
      ]
    },
    {
      "cell_type": "code",
      "metadata": {
        "id": "r553jXbnPh2z"
      },
      "source": [
        "# Importing dependencies from transformers\n",
        "from transformers import PegasusForConditionalGeneration, PegasusTokenizer\n",
        "\n",
        "#Import Scraper\n",
        "from bs4 import BeautifulSoup as bs\n",
        "import requests\n",
        "import re"
      ],
      "execution_count": 6,
      "outputs": []
    },
    {
      "cell_type": "code",
      "metadata": {
        "id": "4H5rfb_ZPh21"
      },
      "source": [
        "# Load tokenizer \n",
        "tokenizer = PegasusTokenizer.from_pretrained(\"google/pegasus-wikihow\") #Need to try different pretrained data sets"
      ],
      "execution_count": null,
      "outputs": []
    },
    {
      "cell_type": "code",
      "metadata": {
        "id": "PoGlWuPCPh23"
      },
      "source": [
        "# Load model \n",
        "model = PegasusForConditionalGeneration.from_pretrained(\"google/pegasus-wikihow\")"
      ],
      "execution_count": null,
      "outputs": []
    },
    {
      "cell_type": "markdown",
      "metadata": {
        "id": "oUDBCdbgPh25"
      },
      "source": [
        "# 2. Scrape for question and answers"
      ]
    },
    {
      "cell_type": "code",
      "metadata": {
        "colab": {
          "base_uri": "https://localhost:8080/"
        },
        "id": "qnZVizhurbQz",
        "outputId": "fc0dd151-81b5-4438-81ae-40b51336fee9"
      },
      "source": [
        "#Scrape post\n",
        "post_link = 'https://stackoverflow.com/questions/53621696/how-to-start-from-second-index-for-for-loop/53621801'\n",
        "link = post_link\n",
        "results = requests.get(link)\n",
        "doc = bs(results.text, 'html.parser')\n",
        "\n",
        "#This parses specifically for question text\n",
        "text_tags = doc.find_all('div', itemprop='text')#, itemprop='text')\n",
        "\n",
        "if (len(text_tags[0].text.split('\\r')) == 1): #If there is not community lock message the question is the first element in the list\n",
        "  question_text = text_tags[0].text.split('\\r')[0] #the actual text is the 3rd element in the html tag\n",
        "\n",
        "else:\n",
        "  question_text = text_tags[0].text.split('\\r')[2] #If there is a community lock message it will be the third element for some reason\n",
        "\n",
        "##Strips random HTML and \\n characters out of the text_tag\n",
        "question_text = question_text.replace('\\n',' ')\n",
        "question_text = question_text.strip()\n",
        "\n",
        "#question_text\n",
        "answer_texts = []\n",
        "#This parses for the various answer text_tags and strips out random characters\n",
        "for i in range(1, len(text_tags)):\n",
        "    answer_texts.append(text_tags[i].text)\n",
        "    answer_texts[i-1] = answer_texts[i-1].replace('\\n', ' ')\n",
        "    answer_texts[i-1] = answer_texts[i-1].strip()\n",
        "\n",
        "answer_texts\n",
        "    "
      ],
      "execution_count": 92,
      "outputs": [
        {
          "output_type": "execute_result",
          "data": {
            "text/plain": [
              "[\"First thing is to remember that python uses zero indexing. You can iterate throught the list except using the range function to get the indexes of the items you want or slices to get the elements. What I think is becoming confusing here is that in your example, the values and the indexes are the same so to clarify I'll use this list as example: I = ['a', 'b', 'c', 'd', 'e'] nI = len(I) # 5  The range function will allow you to iterate through the indexes: for i in range(1, nI):     print(i) # Prints: # 1 # 2 # 3 # 4  If you want to access the values using the range function you should do it like this: for index in range(1, nI):     i = I[index]     print(i) # Prints: # b # c # d # e  You can also use array slicing to do that and you don't even need nI. Array slicing returns a new array with your slice. The slice is done with the_list_reference[start:end:steps] where all three parameters are optional and: start is the index of the first to be included in the slice end is the index of the first element to be excluded from the slice steps is how many steps for each next index starting from (as expected) the start (if steps is 2 and start with 1 it gets every odd index). Example: for i in I[1:]:     print(i) # Prints: # b # c # d # e\",\n",
              " 'You can simply use slicing: for item in I[1:]:     print(item)  And if you want indexing, use pythonic-style enumerate: START = 1 for index, item in enumerate(I[START:], START):     print(item, index)',\n",
              " \"If you want to iterate through a list from a second item, just use range(1, nI) (if nI is the length of the list or so).  for i in range(1, nI):     sum=0     for v in range(nV):         for j in range(nJ):             sum=sum+x1[i][j][v]  Probaly, a part of your function just lost somewhere, but anyway, in in general range() works like this:  range(start_from, stop_at, step_size)  i. e.  for i in range(2, 7, 2):     print(i, end=' ')  Out: 2 4 6  Edit Please, remember: python uses zero indexing, i.e. first element has an index 0, the second - 1 etc.  By default, range starts from 0 and stops at the value of the passed parameter minus one. If there's an explicit start, iteration starts from it's value. If there's a step, it continues while range returns values lesser than stop value. for i in range(1, 7, 2):     print(i, end=' ')  Out:  1 3 5  # there's no 7!  Detailed description of range build-in is here.\",\n",
              " 'Range starts from the 0 index if not otherwise specified. You want to use something like for i in range(1,nI):     ...',\n",
              " 'You should avoid using names of built-ins. If you really must, add an underscore at the end e.g. sum_, but it\\'s probably a hint that you should be using the built-in instead. For iteration variables, it\\'s recommended you usei, j, k, m, nunless you have a reason to name it something else. If you are using numpy arrays, you can loop over all values using for value in  np.nditer(...) If you put sum = 0 inside of the loop, then it\\'ll get reset to that every time. You can \"de-nest\" for loops using itertools.product e.g.  sum(x[i][j][v] for i, j, v in itertools.product(range(nI), range(nJ), range(nV)))\\u200a   To reduce multiple for loops, Itertools has a product function that gives you a generator that will allow you to flatten multiple iterables into one iterable of tuples that effectively is the same as nested for loops. The only difference is ordering of the values.  from itertools import product  for x, y in product(range(3), range(4, 7)):     print(x, y)  0 4 0 5 0 6 1 4 1 5 1 6 2 4 2 5 2 6  [Program finished]']"
            ]
          },
          "metadata": {},
          "execution_count": 92
        }
      ]
    },
    {
      "cell_type": "code",
      "metadata": {
        "id": "qfOlf64bPh28"
      },
      "source": [
        "text = answer_texts[0]"
      ],
      "execution_count": 82,
      "outputs": []
    },
    {
      "cell_type": "markdown",
      "metadata": {
        "id": "nmKaWGTiVf1w"
      },
      "source": [
        "#3. Perform Abstractive Summarization"
      ]
    },
    {
      "cell_type": "code",
      "metadata": {
        "id": "GPyQ_Ow7Ph3A"
      },
      "source": [
        "# Create tokens - number representation of our text\n",
        "tokens = tokenizer(text, truncation=True, padding=\"longest\", return_tensors=\"pt\")"
      ],
      "execution_count": 83,
      "outputs": []
    },
    {
      "cell_type": "code",
      "metadata": {
        "id": "wDhf-aOqPh3C"
      },
      "source": [
        "# Input tokens\n",
        "#tokens"
      ],
      "execution_count": null,
      "outputs": []
    },
    {
      "cell_type": "code",
      "metadata": {
        "id": "9ILExCUPPh3F"
      },
      "source": [
        "# Summarize \n",
        "summary = model.generate(**tokens)"
      ],
      "execution_count": 85,
      "outputs": []
    },
    {
      "cell_type": "code",
      "metadata": {
        "id": "eUq44M0PPh3H"
      },
      "source": [
        "# Output summary tokens\n",
        "#summary[0]"
      ],
      "execution_count": 90,
      "outputs": []
    },
    {
      "cell_type": "code",
      "metadata": {
        "colab": {
          "base_uri": "https://localhost:8080/",
          "height": 88
        },
        "id": "9dyyB6qrPh3I",
        "outputId": "05a38cf8-81b1-449e-c66b-af7f2c41f73d"
      },
      "source": [
        "# Decode summary\n",
        "tokenizer.decode(summary[0])"
      ],
      "execution_count": 88,
      "outputs": [
        {
          "output_type": "execute_result",
          "data": {
            "application/vnd.google.colaboratory.intrinsic+json": {
              "type": "string"
            },
            "text/plain": [
              "'This article relies on the previous accomplishment of the three articles preceding it:<n><n>How to Create a Spirallic Spin Particle Path or Necklace Form or Spherical Border<n>How to Create a Spirallic Spin Particle Path or Necklace Form or Spherical Border<n>How to Create a Spirallic Spin Particle Path or Necklace Form or Spherical Border.'"
            ]
          },
          "metadata": {},
          "execution_count": 88
        }
      ]
    },
    {
      "cell_type": "code",
      "metadata": {
        "id": "mhpdwmJVUGa-"
      },
      "source": [
        ""
      ],
      "execution_count": 90,
      "outputs": []
    }
  ]
}