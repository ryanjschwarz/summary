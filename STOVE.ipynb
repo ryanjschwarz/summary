{
  "nbformat": 4,
  "nbformat_minor": 0,
  "metadata": {
    "kernelspec": {
      "display_name": "pegasus",
      "language": "python",
      "name": "pegasus"
    },
    "language_info": {
      "codemirror_mode": {
        "name": "ipython",
        "version": 3
      },
      "file_extension": ".py",
      "mimetype": "text/x-python",
      "name": "python",
      "nbconvert_exporter": "python",
      "pygments_lexer": "ipython3",
      "version": "3.7.3"
    },
    "colab": {
      "name": "STOVE.ipynb",
      "provenance": [],
      "collapsed_sections": []
    }
  },
  "cells": [
    {
      "cell_type": "markdown",
      "metadata": {
        "id": "Z52gJXydPh2b"
      },
      "source": [
        "# 0. Install dependencies"
      ]
    },
    {
      "cell_type": "code",
      "metadata": {
        "id": "JexNDL53Ph2q"
      },
      "source": [
        "# Install PyTorch\n",
        "!pip install torch==1.8.2+cu111 torchvision==0.9.2+cu111 torchaudio===0.8.2 -f https://download.pytorch.org/whl/lts/1.8/torch_lts.html\n",
        "!pip install sentencepiece"
      ],
      "execution_count": null,
      "outputs": []
    },
    {
      "cell_type": "code",
      "metadata": {
        "id": "0mbPcFX1Ph2w"
      },
      "source": [
        "# Install transformers\n",
        "!pip install transformers"
      ],
      "execution_count": null,
      "outputs": []
    },
    {
      "cell_type": "code",
      "metadata": {
        "id": "lTPXwUVIqo_z"
      },
      "source": [
        "#Install Beautiful soup\n",
        "!pip install Beautifulsoup4\n",
        "!pip install requests"
      ],
      "execution_count": null,
      "outputs": []
    },
    {
      "cell_type": "markdown",
      "metadata": {
        "id": "OXi65qnFPh2y"
      },
      "source": [
        "# 1. Import and Load Model"
      ]
    },
    {
      "cell_type": "code",
      "metadata": {
        "id": "r553jXbnPh2z"
      },
      "source": [
        "# Importing dependencies from transformers\n",
        "from transformers import PegasusForConditionalGeneration, PegasusTokenizer\n",
        "\n",
        "#Import Scraper\n",
        "from bs4 import BeautifulSoup as bs\n",
        "import requests\n",
        "import re\n",
        "\n",
        "#Import CSV viewer\n",
        "import pandas as pd\n"
      ],
      "execution_count": 9,
      "outputs": []
    },
    {
      "cell_type": "markdown",
      "metadata": {
        "id": "eP2QmxFP4VDD"
      },
      "source": [
        "This below cell is for google colab dependencies"
      ]
    },
    {
      "cell_type": "code",
      "metadata": {
        "colab": {
          "base_uri": "https://localhost:8080/"
        },
        "id": "54U2bwwK4Upl",
        "outputId": "20b58622-a168-410b-9d8a-b7e146f02b5f"
      },
      "source": [
        "from google.colab import drive\n",
        "from google.colab import files \n",
        "drive.mount('/content/gdrive')"
      ],
      "execution_count": 10,
      "outputs": [
        {
          "output_type": "stream",
          "name": "stdout",
          "text": [
            "Mounted at /content/gdrive\n"
          ]
        }
      ]
    },
    {
      "cell_type": "code",
      "metadata": {
        "id": "dEpMS-iFzRTH"
      },
      "source": [
        "#Change this to the CSV path\n",
        "csv = pd.read_csv('gdrive/MyDrive/Colab Notebooks/STOVE/stackoverflow_post_summary_groundtruth.csv')"
      ],
      "execution_count": 11,
      "outputs": []
    },
    {
      "cell_type": "code",
      "metadata": {
        "id": "4H5rfb_ZPh21"
      },
      "source": [
        "# Load tokenizer \n",
        "tokenizer = PegasusTokenizer.from_pretrained(\"google/pegasus-reddit_tifu\") #Need to try different pretrained data sets"
      ],
      "execution_count": null,
      "outputs": []
    },
    {
      "cell_type": "code",
      "metadata": {
        "id": "PoGlWuPCPh23"
      },
      "source": [
        "# Load model \n",
        "model = PegasusForConditionalGeneration.from_pretrained(\"google/pegasus-reddit_tifu\")"
      ],
      "execution_count": null,
      "outputs": []
    },
    {
      "cell_type": "markdown",
      "metadata": {
        "id": "oUDBCdbgPh25"
      },
      "source": [
        "# 2. Scrape for question and answers"
      ]
    },
    {
      "cell_type": "markdown",
      "metadata": {
        "id": "TT1Lso2m2Y4-"
      },
      "source": [
        "This cell scrapes from the CSV file given in the upload cell above for relevant information."
      ]
    },
    {
      "cell_type": "code",
      "metadata": {
        "id": "ukUuzxkd2W_j"
      },
      "source": [
        "def ScrapeCSV(csv_in):\n",
        "\n",
        "  code = []\n",
        "  mod_answer_text = []\n",
        "  unmod_answer_text = []\n",
        "  data = []\n",
        "\n",
        "  #This regex pattern pulls everything between the code tags\n",
        "  pat_c = r'(?=\\<code>).+?(?<=\\</code>)'\n",
        "\n",
        "  #This regex pattern extracts the tags alltogether.\n",
        "  pat_t = r'(?=\\<).+?(?<=\\>)'\n",
        "\n",
        "\n",
        "  #for i in range len(csv_in):\n",
        "  for answer in csv_in['answer_body']:\n",
        "    answer = answer[1:-1]\n",
        "    answer = answer.replace('\\'','')\n",
        "    answer = answer.replace(',','')\n",
        "\n",
        "    #This extracts the code from the answer, joins it, and appends it to code\n",
        "    code_text = re.findall(pat_c, answer)\n",
        "    code.append(' '.join(code_text))\n",
        "\n",
        "    #This modifies the answer string to be without the tags but code remaining\n",
        "    unmod_ans = re.sub(pat_t,'', answer)\n",
        "    unmod_answer_text.append(unmod_ans)\n",
        "\n",
        "    #This removes the code from the unmodified answer leaving just the text\n",
        "    mod_ans = re.sub(pat_c, '', answer)\n",
        "    mod_answer_text.append(mod_ans)\n",
        "\n",
        "  data.append(code)\n",
        "  data.append(unmod_answer_text)\n",
        "  data.append(mod_answer_text)\n",
        "  #Data is a tuple containing the code and both answer text arrays\n",
        "  return data\n",
        "\n",
        "  \n",
        "\n"
      ],
      "execution_count": 88,
      "outputs": []
    },
    {
      "cell_type": "code",
      "metadata": {
        "id": "yXLq8MOxP-Ze"
      },
      "source": [
        "#Test Cell\n",
        "ScrapeCSV(csv)"
      ],
      "execution_count": null,
      "outputs": []
    },
    {
      "cell_type": "markdown",
      "metadata": {
        "id": "M6YjYy1B2RGh"
      },
      "source": [
        "This Cell was a test cell for web-based scraping with beautifulsoup. DO NOT USE with CSV dataset.\n"
      ]
    },
    {
      "cell_type": "code",
      "metadata": {
        "id": "qnZVizhurbQz"
      },
      "source": [
        "#Scrape post\n",
        "post_link = 'https://stackoverflow.com/questions/53621696/how-to-start-from-second-index-for-for-loop/53621801'\n",
        "link = post_link\n",
        "results = requests.get(link)\n",
        "doc = bs(results.text, 'html.parser')\n",
        "\n",
        "#This parses specifically for question text\n",
        "text_tags = doc.find_all('div', itemprop='text')#, itemprop='text')\n",
        "\n",
        "if (len(text_tags[0].text.split('\\r')) == 1): #If there is not community lock message the question is the first element in the list\n",
        "  question_text = text_tags[0].text.split('\\r')[0] #the actual text is the 3rd element in the html tag\n",
        "\n",
        "else:\n",
        "  question_text = text_tags[0].text.split('\\r')[2] #If there is a community lock message it will be the third element for some reason\n",
        "\n",
        "##Strips random HTML and \\n characters out of the text_tag\n",
        "question_text = question_text.replace('\\n',' ')\n",
        "question_text = question_text.strip()\n",
        "\n",
        "#question_text\n",
        "answer_texts = []\n",
        "#This parses for the various answer text_tags and strips out random characters\n",
        "for i in range(1, len(text_tags)):\n",
        "    answer_texts.append(text_tags[i].text)\n",
        "    answer_texts[i-1] = answer_texts[i-1].replace('\\n', ' ')\n",
        "    answer_texts[i-1] = answer_texts[i-1].strip()\n",
        "\n",
        "answer_texts\n",
        "    "
      ],
      "execution_count": null,
      "outputs": []
    },
    {
      "cell_type": "code",
      "metadata": {
        "id": "qfOlf64bPh28"
      },
      "source": [
        "text = answer_texts[0]"
      ],
      "execution_count": null,
      "outputs": []
    },
    {
      "cell_type": "markdown",
      "metadata": {
        "id": "nmKaWGTiVf1w"
      },
      "source": [
        "#3. Perform Abstractive Summarization"
      ]
    },
    {
      "cell_type": "code",
      "metadata": {
        "colab": {
          "base_uri": "https://localhost:8080/",
          "height": 245
        },
        "id": "j9B0bKoQQM9o",
        "outputId": "dc6fa1fa-4623-41cd-9c16-cbdcf6430398"
      },
      "source": [
        "#This is for test purposes and is only extracting the first unmod answer text\n",
        "text = ScrapeCSV(csv)[1][3]\n",
        "text"
      ],
      "execution_count": 97,
      "outputs": [
        {
          "output_type": "execute_result",
          "data": {
            "application/vnd.google.colaboratory.intrinsic+json": {
              "type": "string"
            },
            "text/plain": [
              "'A metaclass is the class of a class. Like a class defines how an instance of the class behaves a metaclass defines how a class behaves. A class is an instance of a metaclass. While in Python you can use arbitrary callables for metaclasses (like Jerub shows) the more useful approach is actually to make it an actual class itself. type is the usual metaclass in Python. \"In case youre wondering yes type is itself a class and it is its own type.\" \"You wont be able to recreate something like type purely in Python but Python cheats a little.\" To create your own metaclass in Python you really just want to subclass type. A metaclass is most commonly used as a class-factory. \"Like you create an instance of the class by calling the class Python creates a new class (when it executes the class statement) by calling the metaclass.\" \"Combined with the normal __init__ and __new__ methods metaclasses therefore allow you to do extra things when creating a class like registering the new class with some registry or even replace the class with something else entirely.\" When the class statement is executed Python first executes the body of the class statement as a normal block of code. The resulting namespace (a dict) holds the attributes of the class-to-be. The metaclass is determined by looking at the baseclasses of the class-to-be (metaclasses are inherited) at the __metaclass__ attribute of the class-to-be (if any) or the __metaclass__ global variable. The metaclass is then called with the name bases and attributes of the class to instantiate it. However metaclasses actually define the type of a class not just a factory for it so you can do much more with them. You can for instance define normal methods on the metaclass. These metaclass-methods are like classmethods in that they can be called on the class without an instance but they are also not like classmethods in that they cannot be called on an instance of the class. type.__subclasses__() is an example of a method on the type metaclass. \"You can also define the normal magic methods like __add__ __iter__ and __getattr__ to implement or change how the class behaves.\" \"Heres an aggregated example of the bits and pieces:\"'"
            ]
          },
          "metadata": {},
          "execution_count": 97
        }
      ]
    },
    {
      "cell_type": "code",
      "metadata": {
        "id": "GPyQ_Ow7Ph3A"
      },
      "source": [
        "# Create tokens - number representation of our text\n",
        "tokens = tokenizer(text, truncation=True, padding=\"longest\", return_tensors=\"pt\")"
      ],
      "execution_count": 99,
      "outputs": []
    },
    {
      "cell_type": "code",
      "metadata": {
        "id": "9ILExCUPPh3F"
      },
      "source": [
        "# Summarize - This can take a few minutes\n",
        "summary = model.generate(**tokens)"
      ],
      "execution_count": 100,
      "outputs": []
    },
    {
      "cell_type": "code",
      "metadata": {
        "colab": {
          "base_uri": "https://localhost:8080/",
          "height": 71
        },
        "id": "9dyyB6qrPh3I",
        "outputId": "52857150-0d3b-471a-b34a-c0e47f2813ed"
      },
      "source": [
        "# Decode summary\n",
        "tokenizer.decode(summary[0])"
      ],
      "execution_count": 101,
      "outputs": [
        {
          "output_type": "execute_result",
          "data": {
            "application/vnd.google.colaboratory.intrinsic+json": {
              "type": "string"
            },
            "text/plain": [
              "'metaclasses define the type of a class not just a factory for it but they allow you to do extra things when creating a class like registering the new class with some registry or even replace the class with something else entirely.'"
            ]
          },
          "metadata": {},
          "execution_count": 101
        }
      ]
    }
  ]
}